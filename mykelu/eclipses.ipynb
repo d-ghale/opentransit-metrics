{
 "cells": [
  {
   "cell_type": "markdown",
   "metadata": {},
   "source": [
    "# Imports"
   ]
  },
  {
   "cell_type": "code",
   "execution_count": 19,
   "metadata": {},
   "outputs": [],
   "source": [
    "import json\n",
    "import requests\n",
    "\n",
    "from datetime import datetime, timedelta, timezone\n",
    "\n",
    "import pandas as pd\n",
    "import numpy as np\n",
    "from geopy.distance import distance\n",
    "\n",
    "import math\n",
    "import pprint\n",
    "import time\n",
    "\n",
    "import matplotlib.pyplot as plt\n",
    "from matplotlib.ticker import FuncFormatter\n",
    "\n",
    "from typing import List, Union\n",
    "#import pickle\n",
    "#import sys"
   ]
  },
  {
   "cell_type": "markdown",
   "metadata": {},
   "source": [
    "# Query GraphQL"
   ]
  },
  {
   "cell_type": "code",
   "execution_count": 20,
   "metadata": {
    "scrolled": true
   },
   "outputs": [],
   "source": [
    "def query_graphql(start_time: int, end_time: int, route: str) -> list:\n",
    "    query = f\"\"\"{{\n",
    "        trynState(agency: \"muni\",\n",
    "                  startTime: \"{start_time}\",\n",
    "                  endTime: \"{end_time}\",\n",
    "                  routes: [\"{route}\"]) {{\n",
    "            agency\n",
    "            startTime\n",
    "            routes {{\n",
    "                stops {{\n",
    "                    sid\n",
    "                    lat\n",
    "                    lon\n",
    "                }}\n",
    "                routeStates {{\n",
    "                    vtime\n",
    "                    vehicles {{\n",
    "                        vid\n",
    "                        lat\n",
    "                        lon\n",
    "                        did\n",
    "                    }}\n",
    "                }}\n",
    "            }}\n",
    "        }}\n",
    "    }}\n",
    "    \"\"\"\n",
    "    query_url = f\"https://06o8rkohub.execute-api.us-west-2.amazonaws.com/dev/graphql?query={query}\"\n",
    "\n",
    "    request = requests.get(query_url).json()\n",
    "    try:\n",
    "        return request['data']['trynState']['routes']\n",
    "    except KeyError:\n",
    "        return None"
   ]
  },
  {
   "cell_type": "markdown",
   "metadata": {},
   "source": [
    "# Produce Datatables"
   ]
  },
  {
   "cell_type": "code",
   "execution_count": 21,
   "metadata": {},
   "outputs": [],
   "source": [
    "def produce_stops(data: list, route: str) -> pd.DataFrame:\n",
    "    stops = pd.io.json.json_normalize(data,\n",
    "                                      record_path=['stops']) \\\n",
    "            .rename(columns={'lat': 'LAT',\n",
    "                             'lon': 'LON',\n",
    "                             'sid': 'SID'}) \\\n",
    "            .reindex(['SID', 'LAT', 'LON'], axis='columns')\n",
    "    \n",
    "    # obtain stop directions\n",
    "    stops['DID'] = stops['SID'].map({stop: direction['id']\n",
    "                                     for direction in requests\n",
    "                                                      .get(f\"http://restbus.info/api/agencies/sf-muni/routes/{route}\")\n",
    "                                                      .json()['directions']\n",
    "                                     for stop in direction['stops']})\n",
    "    \n",
    "    # remove stops that don't have an associated direction\n",
    "    stops = stops.dropna(axis='index', subset=['DID'])\n",
    "    \n",
    "    # obtain stop ordinals\n",
    "    stops['ORD'] = stops['SID'].map({stop_meta['id']: ordinal\n",
    "                                     for ordinal, stop_meta\n",
    "                                     in enumerate(requests\n",
    "                                                  .get(\"http://restbus.info/api/agencies/sf-muni/\"\n",
    "                                                       f\"routes/{route}\")\n",
    "                                                  .json()['stops'])})\n",
    "    \n",
    "    return stops"
   ]
  },
  {
   "cell_type": "code",
   "execution_count": 22,
   "metadata": {
    "scrolled": true
   },
   "outputs": [],
   "source": [
    "def produce_buses(data: list) -> pd.DataFrame:\n",
    "     return pd.io.json.json_normalize(data,\n",
    "                                      record_path=['routeStates', 'vehicles'],\n",
    "                                      meta=[['routeStates', 'vtime']]) \\\n",
    "            .rename(columns={'lat': 'LAT',\n",
    "                             'lon': 'LON',\n",
    "                             'vid': 'VID',\n",
    "                             'did': 'DID',\n",
    "                             'routeStates.vtime': 'TIME'}) \\\n",
    "            .reindex(['TIME', 'VID', 'LAT', 'LON', 'DID'], axis='columns')"
   ]
  },
  {
   "cell_type": "markdown",
   "metadata": {},
   "source": [
    "# Define Route"
   ]
  },
  {
   "cell_type": "code",
   "execution_count": 23,
   "metadata": {
    "scrolled": false
   },
   "outputs": [
    {
     "name": "stdout",
     "output_type": "stream",
     "text": [
      "it took 0.2528829574584961 seconds to open and define route\n"
     ]
    },
    {
     "data": {
      "image/png": "[encoded data removed]",
      "text/plain": [
       "<Figure size 432x288 with 1 Axes>"
      ]
     },
     "metadata": {
      "needs_background": "light"
     },
     "output_type": "display_data"
    }
   ],
   "source": [
    "def routedef(routename: str) -> pd.DataFrame:\n",
    "    \n",
    "    with open('muniroutes_geo.json') as json_data:\n",
    "        data = json.load(json_data)\n",
    "        data = data['features']\n",
    "        \n",
    "        # collect coordinates for certain route, if route number matches given routename ex)'name'=:'14'\n",
    "        routedata = [routedata['geometry']['coordinates'] \\\n",
    "                       for routedata in data \\\n",
    "                       if (routedata['properties']['name'] == routename)]\n",
    "        routedata = routedata[0]\n",
    "        \n",
    "        routecoords = []\n",
    "        for coordlist in routedata:\n",
    "            for coord in coordlist:\n",
    "                routecoords.append(coord)\n",
    "        \n",
    "        \n",
    "        #get coordinates of stops for the route\n",
    "        tx = time.time()\n",
    "        stopsdata = requests.get(f\"http://restbus.info/api/agencies/sf-muni/routes/{routename}\").json()['stops']\n",
    "        \n",
    "        stopcoords = []\n",
    "        for stop in stopsdata:\n",
    "            stopcoords.append([stop['lon'],stop['lat']])\n",
    "        \n",
    "        # add stop coordinates to route coordnates\n",
    "        for stop in stopcoords:\n",
    "            # check if repeating coordinate\n",
    "            if stop not in routecoords:\n",
    "                routecoords.append(stop)\n",
    "\n",
    "        routecoords = pd.DataFrame(routecoords, columns = ['LON','LAT'])\n",
    "        return routecoords\n",
    "\n",
    "t1=time.time()\n",
    "routecoords = routedef('14')\n",
    "print('it took %s seconds to open and define route'%(time.time()-t1))\n",
    "\n",
    "plt.title('gps coordinates of route 14 definition')\n",
    "plt.xlabel('Longitude')\n",
    "plt.ylabel('Latitude')\n",
    "plt.scatter(routecoords['LON'],routecoords['LAT'], s = 5)\n",
    "plt.show()\n",
    "\n"
   ]
  },
  {
   "cell_type": "markdown",
   "metadata": {},
   "source": [
    "# Eclipses"
   ]
  },
  {
   "cell_type": "code",
   "execution_count": 24,
   "metadata": {
    "scrolled": false
   },
   "outputs": [],
   "source": [
    "\n",
    "# haversine formula for calcuating distance between two coordinates in lat lon\n",
    "# from bird eye view; seems to be +- 8 meters difference from geopy distance\n",
    "def haver_distance(latstop,lonstop,latbus,lonbus):\n",
    "\n",
    "    latstop,lonstop,latbus,lonbus = map(np.deg2rad,[latstop,lonstop,latbus,lonbus])\n",
    "    eradius = 6371000\n",
    "    \n",
    "    latdiff = (latbus-latstop)\n",
    "    londiff = (lonbus-lonstop)\n",
    "    \n",
    "    a = np.sin(latdiff/2)**2 + np.cos(latstop)*np.cos(latbus)*np.sin(londiff/2)**2\n",
    "    c = 2*np.arctan2(np.sqrt(a),np.sqrt(1-a))\n",
    "    \n",
    "    distance = eradius*c\n",
    "    return distance\n",
    "    \n",
    "def find_eclipses(buses, stop):\n",
    "    \"\"\"\n",
    "    Find movement of buses relative to the stop, in distance as a function of time.\n",
    "    \"\"\"\n",
    "    def split_eclipses(eclipses, threshold=30*60*1000) -> List[pd.DataFrame]:\n",
    "        \"\"\"\n",
    "        Split buses' movements when they return to a stop after completing the route.\n",
    "        \"\"\"\n",
    "        disjoint_eclipses = []\n",
    "        for bus_id in eclipses['VID'].unique(): # list of unique VID's\n",
    "            # obtain distance data for this one bus\n",
    "            bus = eclipses[eclipses['VID'] == bus_id].sort_values('TIME')\n",
    "            #pprint.pprint(bus)\n",
    "            #pprint.pprint(bus['TIME'].shift())\n",
    "            #pprint.pprint(bus['TIME'].shift() + threshold)\n",
    "            #print('===============')\n",
    "            # split data into groups when there is at least a `threshold`-ms gap between data points\n",
    "            group_ids = (bus['TIME'] > (bus['TIME'].shift() + threshold)).cumsum()\n",
    "\n",
    "            # store groups\n",
    "            for _, group in bus.groupby(group_ids):\n",
    "                disjoint_eclipses.append(group)\n",
    "        return disjoint_eclipses\n",
    "\n",
    "    eclipses = buses.copy()\n",
    "    #eclipses['DIST'] = eclipses.apply(lambda row: distance(stop[['LAT','LON']],row[['LAT','LON']]).meters,axis=1)\n",
    "    \n",
    "    stopcoord = stop[['LAT', 'LON']]\n",
    "    buscoord = eclipses[['LAT', 'LON']]\n",
    "\n",
    "    # calculate distances fast with haversine function \n",
    "    eclipses['DIST'] = haver_distance(stopcoord['LAT'],stopcoord['LON'],buscoord['LAT'],buscoord['LON'])\n",
    "    # only keep positions within 750 meters within the given stop; (filtering out)\n",
    "    eclipses = eclipses[eclipses['DIST'] < 750]\n",
    "    \n",
    "    # update the coordinates list \n",
    "    stopcoord = stop[['LAT', 'LON']].values\n",
    "    buscoord = eclipses[['LAT', 'LON']].values\n",
    "    \n",
    "    # calculate distances again using geopy for the distance<750m values, because geopy is probably more accurate\n",
    "    dfromstop = []\n",
    "    for row in buscoord:\n",
    "        busdistance = distance(stopcoord,row).meters\n",
    "        dfromstop.append(busdistance)\n",
    "    eclipses['DIST'] = dfromstop\n",
    "    \n",
    "    # for haversine function:\n",
    "    #stopcord = stop[['LAT', 'LON']]\n",
    "    #buscord = eclipses[['LAT', 'LON']]\n",
    "    #eclipses['DIST'] = haver_distance(stopcord['LAT'],stopcord['LON'],buscord['LAT'],buscord['LON'])\n",
    "    \n",
    "    eclipses['TIME'] = eclipses['TIME'].astype(np.int64)\n",
    "    eclipses = eclipses[['TIME', 'VID', 'DIST']]\n",
    "    \n",
    "    eclipses = split_eclipses(eclipses)\n",
    "    \n",
    "    return eclipses\n",
    "\n",
    "def find_nadirs(eclipses):\n",
    "    \"\"\"\n",
    "    Find points where buses are considered to have encountered the stop.\n",
    "    \n",
    "    Nadir is an astronomical term that describes the lowest point reached by an orbiting body.\n",
    "    \"\"\"\n",
    "    def calc_nadir(eclipse: pd.DataFrame) -> Union[pd.Series, None]:\n",
    "        nadir = eclipse.iloc[eclipse['DIST'].values.argmin()]\n",
    "        if nadir['DIST'] < 100:  # if min dist < 100, then reasonable candidate for nadir\n",
    "            return nadir\n",
    "        else:  # otherwise, hardcore datasci is needed\n",
    "            rev_eclipse = eclipse.iloc[::-1]\n",
    "            rev_nadir = rev_eclipse.iloc[rev_eclipse['DIST'].values.argmin()]\n",
    "            if nadir['TIME'] == rev_nadir['TIME']:  # if eclipse has a global min\n",
    "                return nadir  # then it's the best candidate for nadir\n",
    "            else:  # if eclipse's min occurs at two times\n",
    "                mid_nadir = nadir.copy()\n",
    "                mid_nadir['DIST'] = (nadir['DIST'] + rev_nadir['DIST'])/2\n",
    "                return mid_nadir  # take the midpoint of earliest and latest mins\n",
    "    \n",
    "    nadirs = []\n",
    "    for eclipse in eclipses:\n",
    "        nadirs.append(calc_nadir(eclipse)[['VID', 'TIME']])\n",
    "        \n",
    "    return pd.DataFrame(nadirs)\n",
    "            \n",
    "    \n",
    "def show_stop(eclipses, nadirs):\n",
    "    fig = plt.figure(figsize=(18, 9))\n",
    "    ax = fig.add_subplot(111)\n",
    "\n",
    "    for eclipse in eclipses:\n",
    "        plt.plot(*eclipse[['TIME', 'DIST']].values.T)\n",
    "        \n",
    "    for nadir_time in nadirs['TIME']:\n",
    "        plt.axvline(nadir_time, linestyle='--', linewidth=.5)\n",
    "\n",
    "    # format plot\n",
    "    ax.get_xaxis().set_major_formatter(  # convert x-axis tick labels to time of day\n",
    "        FuncFormatter(lambda x, p: datetime.fromtimestamp(int(x)//1000).strftime('%I:%M%p')))\n",
    "    plt.title(f\"Eclipses at Stop {stop_id}\"\n",
    "              f\" from {datetime.fromtimestamp(int(start_time)//1000).strftime('%a %b %d %I:%M%p')}\"\n",
    "              f\" to {datetime.fromtimestamp(int(end_time)//1000).strftime('%a %b %d %I:%M%p')}\")\n",
    "    plt.xlabel(\"Time\")\n",
    "    plt.ylabel(\"Distance from Stop (meters)\")\n",
    "\n",
    "    plt.show()"
   ]
  },
  {
   "cell_type": "markdown",
   "metadata": {},
   "source": [
    "# Hardcore Data Science"
   ]
  },
  {
   "cell_type": "code",
   "execution_count": 25,
   "metadata": {},
   "outputs": [],
   "source": [
    "route = [\"12\", \"14\"]\n",
    "\n",
    "#timespan = (\"08:00\",\n",
    "#            \"11:00\")\n",
    "\n",
    "timespan = (\"08:00\",\n",
    "            \"09:00\")\n",
    "\n",
    "dates = [\n",
    "    \"2018-11-12\",\n",
    "    \"2018-11-13\",\n",
    "    \"2018-11-14\",\n",
    "    \"2018-11-15\",\n",
    "    \"2018-11-16\",\n",
    "]"
   ]
  },
  {
   "cell_type": "markdown",
   "metadata": {},
   "source": [
    "Issue: The plot is labeled based on the machine's current timezone, which may not necessarily match the times sent to the API. To remedy this, the logic for displaying the plot would have to be adjusted to account for the UTC offset of the epochs we get back from the API, which I'm hoping there's a module for but I'm not presently familiar with any."
   ]
  },
  {
   "cell_type": "markdown",
   "metadata": {},
   "source": [
    "Issue: currently, if a trajectory looks like `/~V`, the left edge is selected as the nadir. Based on the data, I suspect that the initial upslope may be a GPS glitch as it's being initialized, I believe the trough on the right should be selected instead."
   ]
  },
  {
   "cell_type": "code",
   "execution_count": 26,
   "metadata": {},
   "outputs": [],
   "source": [
    "class BusData:\n",
    "    def __init__(self):\n",
    "        self.data = {}\n",
    "    \n",
    "    @property\n",
    "    def routes(self):\n",
    "        return list(self.data.keys())\n",
    "    \n",
    "    @property\n",
    "    def stops(self, route_id):\n",
    "        return list(self.data.get(route_id, {}).keys())\n",
    "    \n",
    "    def append(self, other_data):\n",
    "        for route_id, other_route in other_data.items():\n",
    "            route = self.data.get(route_id)\n",
    "            if route:\n",
    "                for stop_id, other_stop in other_route.items():\n",
    "                    stop = route.get(stop_id)\n",
    "                    if stop:\n",
    "                        stop['eclipses'].extend(other_stop['eclipses'])\n",
    "                    else:\n",
    "                        route[stop_id] = other_stop\n",
    "            else:\n",
    "                self.data[route_id] = other_route\n",
    "    \n",
    "    @classmethod\n",
    "    def read_file(cls, filename):\n",
    "        bus_data = cls()\n",
    "        with open(filename, 'r') as f:\n",
    "            bus_data.append(json.load(f))\n",
    "        return bus_data\n",
    "                \n",
    "    \n",
    "    def write_file(self, filename):\n",
    "        with open(filename, 'w') as f:\n",
    "            json.dump(self.data, f)"
   ]
  },
  {
   "cell_type": "markdown",
   "metadata": {},
   "source": [
    "`BusData.data` specification:\n",
    "```\n",
    "{\n",
    "    route_id: {  # route_id is a str\n",
    "        stop_id: {  # stop_id is a str\n",
    "            direction_id: str,\n",
    "            order: int,\n",
    "            lat: float,\n",
    "            lon: float,\n",
    "            eclipses: [\n",
    "                {\n",
    "                    bus_id: int,\n",
    "                    timestamp: int,\n",
    "                },\n",
    "                {\n",
    "                    bus_id: int,\n",
    "                    timestamp: int,\n",
    "                },\n",
    "                ...\n",
    "            ]\n",
    "        },\n",
    "        ...\n",
    "    },\n",
    "    ...\n",
    "}\n",
    "```"
   ]
  },
  {
   "cell_type": "code",
   "execution_count": 27,
   "metadata": {},
   "outputs": [],
   "source": [
    "# get_stops\n",
    "# ------------------------------------------------------------------------------------------\n",
    "# parameters:\n",
    "# dates: an array of dates, formatted as strings in the form YYYY-MM-DD\n",
    "# routes: an array of routes, each represented as a string\n",
    "# directions: an array of strings representing the directions to filter\n",
    "# stops: an array of strings representing the stops to filter\n",
    "# times: a tuple with the start and end times (in UTC -8:00) as strings in the form HH:MM \n",
    "# \n",
    "# returns:\n",
    "# stops: a DataFrame, filtered by the given directions and stops, with the following columns:\n",
    "# VID: the vehicle ID\n",
    "# Time: a datetime object representing the date/time of the stop\n",
    "# Route: the route on which the stop occurred\n",
    "# Stop: the stop at which the stop occurred\n",
    "# Dir: the direction in which the stop occurred\n",
    "# -------------------------------------------------------------------------------------------\n",
    "def get_stops(dates, routes, directions = [], new_stops = [], times = (\"00:00\", \"23:59\")):\n",
    "    bus_stops = pd.DataFrame(columns = [\"VID\", \"TIME\", \"SID\", \"DID\", \"ROUTE\"])\n",
    "    \n",
    "    for route in routes:\n",
    "        stop_ids = [stop['id']\n",
    "            for stop\n",
    "            in requests.get(f\"http://restbus.info/api/agencies/sf-muni/routes/{route}\").json()['stops']][2:4]\n",
    "        for stop_id in stop_ids:\n",
    "            # check if stops to filter were provided, or if the stop_id is in the list of filtered stops\n",
    "            if (stop_id in new_stops) ^ (len(new_stops) == 0):\n",
    "                for date in dates:\n",
    "                    print(f\"{datetime.now().strftime('%a %b %d %I:%M:%S %p')}: starting processing on stop {stop_id} on route {route} on {date}.\")\n",
    "                    start_time = int(datetime.strptime(f\"{date} {timespan[0]} -0800\", \"%Y-%m-%d %H:%M %z\").timestamp())*1000\n",
    "                    end_time   = int(datetime.strptime(f\"{date} {timespan[1]} -0800\", \"%Y-%m-%d %H:%M %z\").timestamp())*1000\n",
    "\n",
    "                    data = query_graphql(start_time, end_time, route)\n",
    "                    print(f\"{datetime.now().strftime('%a %b %d %I:%M:%S %p')}: performed query.\")\n",
    "\n",
    "                    if data is None:  # API might refuse to cooperate\n",
    "                        print(\"API probably timed out\")\n",
    "                        continue\n",
    "                    elif len(data) == 0:  # some days somehow have no data\n",
    "                        print(f\"no data for {month}/{day}\")\n",
    "                        continue\n",
    "                    else:\n",
    "                        stops = produce_stops(data, route)\n",
    "                        print(f\"{datetime.now().strftime('%a %b %d %I:%M:%S %p')}: produced stops.\")\n",
    "                        \n",
    "                        #pprint.pprint(data)\n",
    "                        buses = produce_buses(data)\n",
    "                        #pprint.pprint(buses)\n",
    "                        \n",
    "                        #mydict_as_string = pickle.dumps(data)\n",
    "                        #print(sys.getsizeof(mydict_as_string))\n",
    "                        \n",
    "                        print(f\"{datetime.now().strftime('%a %b %d %I:%M:%S %p')}: produced buses.\")\n",
    "                        \n",
    "                        # select single stop that match stop_id\n",
    "                        stop = stops[stops['SID'] == stop_id].squeeze()\n",
    "                        # select buses that have matching DID with the stop\n",
    "                        buses = buses[buses['DID'] == stop['DID']]\n",
    "                              \n",
    "                        plt.title('gps coordinates of buses')\n",
    "                        plt.xlabel('Longitude')\n",
    "                        plt.ylabel('Latitude')\n",
    "                        plt.scatter(buses['LON'],buses['LAT'], s = 5)\n",
    "                        plt.show()\n",
    "                              \n",
    "                        plt.title('gps coordinates of stops')\n",
    "                        plt.xlabel('Longitude')\n",
    "                        plt.ylabel('Latitude')\n",
    "                        plt.scatter(stops['LON'],stops['LAT'],c='r', s = 5)\n",
    "                        plt.show()\n",
    "                        \n",
    "                        starttime = time.time()\n",
    "                        eclipses = find_eclipses(buses, stop)\n",
    "                        print('time elapsed for eclipse function: %s' % (time.time() - starttime))\n",
    "                              \n",
    "                        print(f\"{datetime.now().strftime('%a %b %d %I:%M:%S %p')}: found eclipses.\")\n",
    "                              \n",
    "                        nadirs = find_nadirs(eclipses)\n",
    "                        print(f\"{datetime.now().strftime('%a %b %d %I:%M:%S %p')}: found nadirs.\")\n",
    "                            \n",
    "                        nadirs[\"TIME\"] = nadirs[\"TIME\"].apply(lambda x: datetime.fromtimestamp(x//1000, timezone(timedelta(hours = -8))).strftime('%a %b %d %Y %I:%M%p'))\n",
    "                        nadirs[\"SID\"] = stop_id\n",
    "                        nadirs[\"DID\"] = stop[\"DID\"]\n",
    "                        nadirs[\"ROUTE\"] = route\n",
    "                        old_length = len(bus_stops)\n",
    "                        bus_stops = bus_stops.append(nadirs, sort = True)\n",
    "                        print(f\"{datetime.now().strftime('%a %b %d %I:%M:%S %p')}: finished processing.\")\n",
    "\n",
    "    # filter for directions\n",
    "    if len(directions) > 0:\n",
    "        bus_stops = bus_stops.loc[bus_stops['DID'].apply(lambda x: x in directions)]\n",
    "    \n",
    "    return bus_stops"
   ]
  },
  {
   "cell_type": "code",
   "execution_count": 28,
   "metadata": {
    "scrolled": false
   },
   "outputs": [
    {
     "name": "stdout",
     "output_type": "stream",
     "text": [
      "Wed Feb 06 07:06:53 PM: starting processing on stop 5528 on route 14 on 2018-11-12.\n",
      "Wed Feb 06 07:06:58 PM: performed query.\n",
      "Wed Feb 06 07:06:59 PM: produced stops.\n",
      "Wed Feb 06 07:06:59 PM: produced buses.\n"
     ]
    },
    {
     "data": {
      "image/png": "[encoded data removed]",
      "text/plain": [
       "<Figure size 432x288 with 1 Axes>"
      ]
     },
     "metadata": {
      "needs_background": "light"
     },
     "output_type": "display_data"
    },
    {
     "data": {
      "image/png": "[encoded data removed]",
      "text/plain": [
       "<Figure size 432x288 with 1 Axes>"
      ]
     },
     "metadata": {
      "needs_background": "light"
     },
     "output_type": "display_data"
    },
    {
     "name": "stdout",
     "output_type": "stream",
     "text": [
      "time elapsed for eclipse function: 0.17942094802856445\n",
      "Wed Feb 06 07:07:00 PM: found eclipses.\n",
      "Wed Feb 06 07:07:00 PM: found nadirs.\n",
      "Wed Feb 06 07:07:00 PM: finished processing.\n",
      "Wed Feb 06 07:07:00 PM: starting processing on stop 5528 on route 14 on 2018-11-13.\n",
      "Wed Feb 06 07:07:04 PM: performed query.\n",
      "Wed Feb 06 07:07:05 PM: produced stops.\n",
      "Wed Feb 06 07:07:05 PM: produced buses.\n"
     ]
    },
    {
     "data": {
      "image/png": "[encoded data removed]",
      "text/plain": [
       "<Figure size 432x288 with 1 Axes>"
      ]
     },
     "metadata": {
      "needs_background": "light"
     },
     "output_type": "display_data"
    },
    {
     "data": {
      "image/png": "[encoded data removed]",
      "text/plain": [
       "<Figure size 432x288 with 1 Axes>"
      ]
     },
     "metadata": {
      "needs_background": "light"
     },
     "output_type": "display_data"
    },
    {
     "name": "stdout",
     "output_type": "stream",
     "text": [
      "time elapsed for eclipse function: 0.24041414260864258\n",
      "Wed Feb 06 07:07:06 PM: found eclipses.\n",
      "Wed Feb 06 07:07:06 PM: found nadirs.\n",
      "Wed Feb 06 07:07:06 PM: finished processing.\n",
      "Wed Feb 06 07:07:06 PM: starting processing on stop 5528 on route 14 on 2018-11-14.\n",
      "Wed Feb 06 07:07:10 PM: performed query.\n",
      "Wed Feb 06 07:07:11 PM: produced stops.\n",
      "Wed Feb 06 07:07:11 PM: produced buses.\n"
     ]
    },
    {
     "data": {
      "image/png": "[encoded data removed]",
      "text/plain": [
       "<Figure size 432x288 with 1 Axes>"
      ]
     },
     "metadata": {
      "needs_background": "light"
     },
     "output_type": "display_data"
    },
    {
     "data": {
      "image/png": "[encoded data removed]",
      "text/plain": [
       "<Figure size 432x288 with 1 Axes>"
      ]
     },
     "metadata": {
      "needs_background": "light"
     },
     "output_type": "display_data"
    },
    {
     "name": "stdout",
     "output_type": "stream",
     "text": [
      "time elapsed for eclipse function: 0.20522499084472656\n",
      "Wed Feb 06 07:07:11 PM: found eclipses.\n",
      "Wed Feb 06 07:07:11 PM: found nadirs.\n",
      "Wed Feb 06 07:07:11 PM: finished processing.\n",
      "Wed Feb 06 07:07:11 PM: starting processing on stop 5528 on route 14 on 2018-11-15.\n",
      "Wed Feb 06 07:07:17 PM: performed query.\n",
      "Wed Feb 06 07:07:17 PM: produced stops.\n",
      "Wed Feb 06 07:07:17 PM: produced buses.\n"
     ]
    },
    {
     "data": {
      "image/png": "[encoded data removed]",
      "text/plain": [
       "<Figure size 432x288 with 1 Axes>"
      ]
     },
     "metadata": {
      "needs_background": "light"
     },
     "output_type": "display_data"
    },
    {
     "data": {
      "image/png": "[encoded data removed]",
      "text/plain": [
       "<Figure size 432x288 with 1 Axes>"
      ]
     },
     "metadata": {
      "needs_background": "light"
     },
     "output_type": "display_data"
    },
    {
     "name": "stdout",
     "output_type": "stream",
     "text": [
      "time elapsed for eclipse function: 0.21865320205688477\n",
      "Wed Feb 06 07:07:18 PM: found eclipses.\n",
      "Wed Feb 06 07:07:18 PM: found nadirs.\n",
      "Wed Feb 06 07:07:18 PM: finished processing.\n",
      "Wed Feb 06 07:07:18 PM: starting processing on stop 5528 on route 14 on 2018-11-16.\n",
      "Wed Feb 06 07:07:22 PM: performed query.\n",
      "Wed Feb 06 07:07:23 PM: produced stops.\n",
      "Wed Feb 06 07:07:23 PM: produced buses.\n"
     ]
    },
    {
     "data": {
      "image/png": "[encoded data removed]",
      "text/plain": [
       "<Figure size 432x288 with 1 Axes>"
      ]
     },
     "metadata": {
      "needs_background": "light"
     },
     "output_type": "display_data"
    },
    {
     "data": {
      "image/png": "[encoded data removed]",
      "text/plain": [
       "<Figure size 432x288 with 1 Axes>"
      ]
     },
     "metadata": {
      "needs_background": "light"
     },
     "output_type": "display_data"
    },
    {
     "name": "stdout",
     "output_type": "stream",
     "text": [
      "time elapsed for eclipse function: 0.2399120330810547\n",
      "Wed Feb 06 07:07:24 PM: found eclipses.\n",
      "Wed Feb 06 07:07:24 PM: found nadirs.\n",
      "Wed Feb 06 07:07:24 PM: finished processing.\n"
     ]
    }
   ],
   "source": [
    "new_stops = get_stops(dates, route, directions = ['14___O_F00'], new_stops = ['5528'], times = timespan)"
   ]
  },
  {
   "cell_type": "code",
   "execution_count": 29,
   "metadata": {},
   "outputs": [
    {
     "data": {
      "text/html": [
       "<div>\n",
       "<style scoped>\n",
       "    .dataframe tbody tr th:only-of-type {\n",
       "        vertical-align: middle;\n",
       "    }\n",
       "\n",
       "    .dataframe tbody tr th {\n",
       "        vertical-align: top;\n",
       "    }\n",
       "\n",
       "    .dataframe thead th {\n",
       "        text-align: right;\n",
       "    }\n",
       "</style>\n",
       "<table border=\"1\" class=\"dataframe\">\n",
       "  <thead>\n",
       "    <tr style=\"text-align: right;\">\n",
       "      <th></th>\n",
       "      <th>DID</th>\n",
       "      <th>ROUTE</th>\n",
       "      <th>SID</th>\n",
       "      <th>TIME</th>\n",
       "      <th>VID</th>\n",
       "    </tr>\n",
       "  </thead>\n",
       "  <tbody>\n",
       "    <tr>\n",
       "      <th>254</th>\n",
       "      <td>14___O_F00</td>\n",
       "      <td>14</td>\n",
       "      <td>5528</td>\n",
       "      <td>Mon Nov 12 2018 08:03AM</td>\n",
       "      <td>7225</td>\n",
       "    </tr>\n",
       "    <tr>\n",
       "      <th>974</th>\n",
       "      <td>14___O_F00</td>\n",
       "      <td>14</td>\n",
       "      <td>5528</td>\n",
       "      <td>Mon Nov 12 2018 08:14AM</td>\n",
       "      <td>7254</td>\n",
       "    </tr>\n",
       "    <tr>\n",
       "      <th>1460</th>\n",
       "      <td>14___O_F00</td>\n",
       "      <td>14</td>\n",
       "      <td>5528</td>\n",
       "      <td>Mon Nov 12 2018 08:21AM</td>\n",
       "      <td>7244</td>\n",
       "    </tr>\n",
       "    <tr>\n",
       "      <th>2107</th>\n",
       "      <td>14___O_F00</td>\n",
       "      <td>14</td>\n",
       "      <td>5528</td>\n",
       "      <td>Mon Nov 12 2018 08:30AM</td>\n",
       "      <td>7272</td>\n",
       "    </tr>\n",
       "    <tr>\n",
       "      <th>3342</th>\n",
       "      <td>14___O_F00</td>\n",
       "      <td>14</td>\n",
       "      <td>5528</td>\n",
       "      <td>Mon Nov 12 2018 08:49AM</td>\n",
       "      <td>7232</td>\n",
       "    </tr>\n",
       "    <tr>\n",
       "      <th>3658</th>\n",
       "      <td>14___O_F00</td>\n",
       "      <td>14</td>\n",
       "      <td>5528</td>\n",
       "      <td>Mon Nov 12 2018 08:54AM</td>\n",
       "      <td>7229</td>\n",
       "    </tr>\n",
       "    <tr>\n",
       "      <th>2569</th>\n",
       "      <td>14___O_F00</td>\n",
       "      <td>14</td>\n",
       "      <td>5528</td>\n",
       "      <td>Mon Nov 12 2018 08:37AM</td>\n",
       "      <td>7220</td>\n",
       "    </tr>\n",
       "    <tr>\n",
       "      <th>4122</th>\n",
       "      <td>14___O_F00</td>\n",
       "      <td>14</td>\n",
       "      <td>5528</td>\n",
       "      <td>Mon Nov 12 2018 09:00AM</td>\n",
       "      <td>7283</td>\n",
       "    </tr>\n",
       "    <tr>\n",
       "      <th>3908</th>\n",
       "      <td>14___O_F00</td>\n",
       "      <td>14</td>\n",
       "      <td>5528</td>\n",
       "      <td>Mon Nov 12 2018 08:57AM</td>\n",
       "      <td>7261</td>\n",
       "    </tr>\n",
       "    <tr>\n",
       "      <th>882</th>\n",
       "      <td>14___O_F00</td>\n",
       "      <td>14</td>\n",
       "      <td>5528</td>\n",
       "      <td>Tue Nov 13 2018 08:12AM</td>\n",
       "      <td>7220</td>\n",
       "    </tr>\n",
       "    <tr>\n",
       "      <th>123</th>\n",
       "      <td>14___O_F00</td>\n",
       "      <td>14</td>\n",
       "      <td>5528</td>\n",
       "      <td>Tue Nov 13 2018 08:01AM</td>\n",
       "      <td>7273</td>\n",
       "    </tr>\n",
       "    <tr>\n",
       "      <th>1249</th>\n",
       "      <td>14___O_F00</td>\n",
       "      <td>14</td>\n",
       "      <td>5528</td>\n",
       "      <td>Tue Nov 13 2018 08:17AM</td>\n",
       "      <td>7248</td>\n",
       "    </tr>\n",
       "    <tr>\n",
       "      <th>1649</th>\n",
       "      <td>14___O_F00</td>\n",
       "      <td>14</td>\n",
       "      <td>5528</td>\n",
       "      <td>Tue Nov 13 2018 08:23AM</td>\n",
       "      <td>7243</td>\n",
       "    </tr>\n",
       "    <tr>\n",
       "      <th>2256</th>\n",
       "      <td>14___O_F00</td>\n",
       "      <td>14</td>\n",
       "      <td>5528</td>\n",
       "      <td>Tue Nov 13 2018 08:31AM</td>\n",
       "      <td>7227</td>\n",
       "    </tr>\n",
       "    <tr>\n",
       "      <th>2966</th>\n",
       "      <td>14___O_F00</td>\n",
       "      <td>14</td>\n",
       "      <td>5528</td>\n",
       "      <td>Tue Nov 13 2018 08:41AM</td>\n",
       "      <td>7208</td>\n",
       "    </tr>\n",
       "    <tr>\n",
       "      <th>3419</th>\n",
       "      <td>14___O_F00</td>\n",
       "      <td>14</td>\n",
       "      <td>5528</td>\n",
       "      <td>Tue Nov 13 2018 08:47AM</td>\n",
       "      <td>7239</td>\n",
       "    </tr>\n",
       "    <tr>\n",
       "      <th>3855</th>\n",
       "      <td>14___O_F00</td>\n",
       "      <td>14</td>\n",
       "      <td>5528</td>\n",
       "      <td>Tue Nov 13 2018 08:53AM</td>\n",
       "      <td>7205</td>\n",
       "    </tr>\n",
       "    <tr>\n",
       "      <th>3612</th>\n",
       "      <td>14___O_F00</td>\n",
       "      <td>14</td>\n",
       "      <td>5528</td>\n",
       "      <td>Tue Nov 13 2018 08:50AM</td>\n",
       "      <td>7264</td>\n",
       "    </tr>\n",
       "    <tr>\n",
       "      <th>4204</th>\n",
       "      <td>14___O_F00</td>\n",
       "      <td>14</td>\n",
       "      <td>5528</td>\n",
       "      <td>Tue Nov 13 2018 08:58AM</td>\n",
       "      <td>7216</td>\n",
       "    </tr>\n",
       "    <tr>\n",
       "      <th>630</th>\n",
       "      <td>14___O_F00</td>\n",
       "      <td>14</td>\n",
       "      <td>5528</td>\n",
       "      <td>Wed Nov 14 2018 08:08AM</td>\n",
       "      <td>7228</td>\n",
       "    </tr>\n",
       "    <tr>\n",
       "      <th>1118</th>\n",
       "      <td>14___O_F00</td>\n",
       "      <td>14</td>\n",
       "      <td>5528</td>\n",
       "      <td>Wed Nov 14 2018 08:15AM</td>\n",
       "      <td>7230</td>\n",
       "    </tr>\n",
       "    <tr>\n",
       "      <th>9</th>\n",
       "      <td>14___O_F00</td>\n",
       "      <td>14</td>\n",
       "      <td>5528</td>\n",
       "      <td>Wed Nov 14 2018 08:00AM</td>\n",
       "      <td>7236</td>\n",
       "    </tr>\n",
       "    <tr>\n",
       "      <th>268</th>\n",
       "      <td>14___O_F00</td>\n",
       "      <td>14</td>\n",
       "      <td>5528</td>\n",
       "      <td>Wed Nov 14 2018 08:03AM</td>\n",
       "      <td>7203</td>\n",
       "    </tr>\n",
       "    <tr>\n",
       "      <th>1626</th>\n",
       "      <td>14___O_F00</td>\n",
       "      <td>14</td>\n",
       "      <td>5528</td>\n",
       "      <td>Wed Nov 14 2018 08:22AM</td>\n",
       "      <td>7283</td>\n",
       "    </tr>\n",
       "    <tr>\n",
       "      <th>2219</th>\n",
       "      <td>14___O_F00</td>\n",
       "      <td>14</td>\n",
       "      <td>5528</td>\n",
       "      <td>Wed Nov 14 2018 08:30AM</td>\n",
       "      <td>7250</td>\n",
       "    </tr>\n",
       "    <tr>\n",
       "      <th>2586</th>\n",
       "      <td>14___O_F00</td>\n",
       "      <td>14</td>\n",
       "      <td>5528</td>\n",
       "      <td>Wed Nov 14 2018 08:35AM</td>\n",
       "      <td>7206</td>\n",
       "    </tr>\n",
       "    <tr>\n",
       "      <th>3653</th>\n",
       "      <td>14___O_F00</td>\n",
       "      <td>14</td>\n",
       "      <td>5528</td>\n",
       "      <td>Wed Nov 14 2018 08:50AM</td>\n",
       "      <td>7220</td>\n",
       "    </tr>\n",
       "    <tr>\n",
       "      <th>3948</th>\n",
       "      <td>14___O_F00</td>\n",
       "      <td>14</td>\n",
       "      <td>5528</td>\n",
       "      <td>Wed Nov 14 2018 08:54AM</td>\n",
       "      <td>7292</td>\n",
       "    </tr>\n",
       "    <tr>\n",
       "      <th>4312</th>\n",
       "      <td>14___O_F00</td>\n",
       "      <td>14</td>\n",
       "      <td>5528</td>\n",
       "      <td>Wed Nov 14 2018 08:59AM</td>\n",
       "      <td>7290</td>\n",
       "    </tr>\n",
       "    <tr>\n",
       "      <th>4360</th>\n",
       "      <td>14___O_F00</td>\n",
       "      <td>14</td>\n",
       "      <td>5528</td>\n",
       "      <td>Wed Nov 14 2018 09:00AM</td>\n",
       "      <td>7264</td>\n",
       "    </tr>\n",
       "    <tr>\n",
       "      <th>661</th>\n",
       "      <td>14___O_F00</td>\n",
       "      <td>14</td>\n",
       "      <td>5528</td>\n",
       "      <td>Thu Nov 15 2018 08:09AM</td>\n",
       "      <td>7273</td>\n",
       "    </tr>\n",
       "    <tr>\n",
       "      <th>1145</th>\n",
       "      <td>14___O_F00</td>\n",
       "      <td>14</td>\n",
       "      <td>5528</td>\n",
       "      <td>Thu Nov 15 2018 08:16AM</td>\n",
       "      <td>7232</td>\n",
       "    </tr>\n",
       "    <tr>\n",
       "      <th>1465</th>\n",
       "      <td>14___O_F00</td>\n",
       "      <td>14</td>\n",
       "      <td>5528</td>\n",
       "      <td>Thu Nov 15 2018 08:20AM</td>\n",
       "      <td>7231</td>\n",
       "    </tr>\n",
       "    <tr>\n",
       "      <th>2364</th>\n",
       "      <td>14___O_F00</td>\n",
       "      <td>14</td>\n",
       "      <td>5528</td>\n",
       "      <td>Thu Nov 15 2018 08:33AM</td>\n",
       "      <td>7205</td>\n",
       "    </tr>\n",
       "    <tr>\n",
       "      <th>3086</th>\n",
       "      <td>14___O_F00</td>\n",
       "      <td>14</td>\n",
       "      <td>5528</td>\n",
       "      <td>Thu Nov 15 2018 08:43AM</td>\n",
       "      <td>7287</td>\n",
       "    </tr>\n",
       "    <tr>\n",
       "      <th>3298</th>\n",
       "      <td>14___O_F00</td>\n",
       "      <td>14</td>\n",
       "      <td>5528</td>\n",
       "      <td>Thu Nov 15 2018 08:46AM</td>\n",
       "      <td>7206</td>\n",
       "    </tr>\n",
       "    <tr>\n",
       "      <th>4327</th>\n",
       "      <td>14___O_F00</td>\n",
       "      <td>14</td>\n",
       "      <td>5528</td>\n",
       "      <td>Thu Nov 15 2018 09:00AM</td>\n",
       "      <td>7209</td>\n",
       "    </tr>\n",
       "    <tr>\n",
       "      <th>4019</th>\n",
       "      <td>14___O_F00</td>\n",
       "      <td>14</td>\n",
       "      <td>5528</td>\n",
       "      <td>Thu Nov 15 2018 08:56AM</td>\n",
       "      <td>7202</td>\n",
       "    </tr>\n",
       "    <tr>\n",
       "      <th>4298</th>\n",
       "      <td>14___O_F00</td>\n",
       "      <td>14</td>\n",
       "      <td>5528</td>\n",
       "      <td>Thu Nov 15 2018 09:00AM</td>\n",
       "      <td>7214</td>\n",
       "    </tr>\n",
       "    <tr>\n",
       "      <th>800</th>\n",
       "      <td>14___O_F00</td>\n",
       "      <td>14</td>\n",
       "      <td>5528</td>\n",
       "      <td>Fri Nov 16 2018 08:11AM</td>\n",
       "      <td>7293</td>\n",
       "    </tr>\n",
       "    <tr>\n",
       "      <th>979</th>\n",
       "      <td>14___O_F00</td>\n",
       "      <td>14</td>\n",
       "      <td>5528</td>\n",
       "      <td>Fri Nov 16 2018 08:14AM</td>\n",
       "      <td>7290</td>\n",
       "    </tr>\n",
       "    <tr>\n",
       "      <th>166</th>\n",
       "      <td>14___O_F00</td>\n",
       "      <td>14</td>\n",
       "      <td>5528</td>\n",
       "      <td>Fri Nov 16 2018 08:02AM</td>\n",
       "      <td>7205</td>\n",
       "    </tr>\n",
       "    <tr>\n",
       "      <th>1141</th>\n",
       "      <td>14___O_F00</td>\n",
       "      <td>14</td>\n",
       "      <td>5528</td>\n",
       "      <td>Fri Nov 16 2018 08:16AM</td>\n",
       "      <td>7229</td>\n",
       "    </tr>\n",
       "    <tr>\n",
       "      <th>3130</th>\n",
       "      <td>14___O_F00</td>\n",
       "      <td>14</td>\n",
       "      <td>5528</td>\n",
       "      <td>Fri Nov 16 2018 08:45AM</td>\n",
       "      <td>7220</td>\n",
       "    </tr>\n",
       "    <tr>\n",
       "      <th>2618</th>\n",
       "      <td>14___O_F00</td>\n",
       "      <td>14</td>\n",
       "      <td>5528</td>\n",
       "      <td>Fri Nov 16 2018 08:38AM</td>\n",
       "      <td>7234</td>\n",
       "    </tr>\n",
       "    <tr>\n",
       "      <th>2785</th>\n",
       "      <td>14___O_F00</td>\n",
       "      <td>14</td>\n",
       "      <td>5528</td>\n",
       "      <td>Fri Nov 16 2018 08:40AM</td>\n",
       "      <td>7248</td>\n",
       "    </tr>\n",
       "    <tr>\n",
       "      <th>3641</th>\n",
       "      <td>14___O_F00</td>\n",
       "      <td>14</td>\n",
       "      <td>5528</td>\n",
       "      <td>Fri Nov 16 2018 08:52AM</td>\n",
       "      <td>7206</td>\n",
       "    </tr>\n",
       "    <tr>\n",
       "      <th>4165</th>\n",
       "      <td>14___O_F00</td>\n",
       "      <td>14</td>\n",
       "      <td>5528</td>\n",
       "      <td>Fri Nov 16 2018 08:59AM</td>\n",
       "      <td>7272</td>\n",
       "    </tr>\n",
       "  </tbody>\n",
       "</table>\n",
       "</div>"
      ],
      "text/plain": [
       "             DID ROUTE   SID                     TIME   VID\n",
       "254   14___O_F00    14  5528  Mon Nov 12 2018 08:03AM  7225\n",
       "974   14___O_F00    14  5528  Mon Nov 12 2018 08:14AM  7254\n",
       "1460  14___O_F00    14  5528  Mon Nov 12 2018 08:21AM  7244\n",
       "2107  14___O_F00    14  5528  Mon Nov 12 2018 08:30AM  7272\n",
       "3342  14___O_F00    14  5528  Mon Nov 12 2018 08:49AM  7232\n",
       "3658  14___O_F00    14  5528  Mon Nov 12 2018 08:54AM  7229\n",
       "2569  14___O_F00    14  5528  Mon Nov 12 2018 08:37AM  7220\n",
       "4122  14___O_F00    14  5528  Mon Nov 12 2018 09:00AM  7283\n",
       "3908  14___O_F00    14  5528  Mon Nov 12 2018 08:57AM  7261\n",
       "882   14___O_F00    14  5528  Tue Nov 13 2018 08:12AM  7220\n",
       "123   14___O_F00    14  5528  Tue Nov 13 2018 08:01AM  7273\n",
       "1249  14___O_F00    14  5528  Tue Nov 13 2018 08:17AM  7248\n",
       "1649  14___O_F00    14  5528  Tue Nov 13 2018 08:23AM  7243\n",
       "2256  14___O_F00    14  5528  Tue Nov 13 2018 08:31AM  7227\n",
       "2966  14___O_F00    14  5528  Tue Nov 13 2018 08:41AM  7208\n",
       "3419  14___O_F00    14  5528  Tue Nov 13 2018 08:47AM  7239\n",
       "3855  14___O_F00    14  5528  Tue Nov 13 2018 08:53AM  7205\n",
       "3612  14___O_F00    14  5528  Tue Nov 13 2018 08:50AM  7264\n",
       "4204  14___O_F00    14  5528  Tue Nov 13 2018 08:58AM  7216\n",
       "630   14___O_F00    14  5528  Wed Nov 14 2018 08:08AM  7228\n",
       "1118  14___O_F00    14  5528  Wed Nov 14 2018 08:15AM  7230\n",
       "9     14___O_F00    14  5528  Wed Nov 14 2018 08:00AM  7236\n",
       "268   14___O_F00    14  5528  Wed Nov 14 2018 08:03AM  7203\n",
       "1626  14___O_F00    14  5528  Wed Nov 14 2018 08:22AM  7283\n",
       "2219  14___O_F00    14  5528  Wed Nov 14 2018 08:30AM  7250\n",
       "2586  14___O_F00    14  5528  Wed Nov 14 2018 08:35AM  7206\n",
       "3653  14___O_F00    14  5528  Wed Nov 14 2018 08:50AM  7220\n",
       "3948  14___O_F00    14  5528  Wed Nov 14 2018 08:54AM  7292\n",
       "4312  14___O_F00    14  5528  Wed Nov 14 2018 08:59AM  7290\n",
       "4360  14___O_F00    14  5528  Wed Nov 14 2018 09:00AM  7264\n",
       "661   14___O_F00    14  5528  Thu Nov 15 2018 08:09AM  7273\n",
       "1145  14___O_F00    14  5528  Thu Nov 15 2018 08:16AM  7232\n",
       "1465  14___O_F00    14  5528  Thu Nov 15 2018 08:20AM  7231\n",
       "2364  14___O_F00    14  5528  Thu Nov 15 2018 08:33AM  7205\n",
       "3086  14___O_F00    14  5528  Thu Nov 15 2018 08:43AM  7287\n",
       "3298  14___O_F00    14  5528  Thu Nov 15 2018 08:46AM  7206\n",
       "4327  14___O_F00    14  5528  Thu Nov 15 2018 09:00AM  7209\n",
       "4019  14___O_F00    14  5528  Thu Nov 15 2018 08:56AM  7202\n",
       "4298  14___O_F00    14  5528  Thu Nov 15 2018 09:00AM  7214\n",
       "800   14___O_F00    14  5528  Fri Nov 16 2018 08:11AM  7293\n",
       "979   14___O_F00    14  5528  Fri Nov 16 2018 08:14AM  7290\n",
       "166   14___O_F00    14  5528  Fri Nov 16 2018 08:02AM  7205\n",
       "1141  14___O_F00    14  5528  Fri Nov 16 2018 08:16AM  7229\n",
       "3130  14___O_F00    14  5528  Fri Nov 16 2018 08:45AM  7220\n",
       "2618  14___O_F00    14  5528  Fri Nov 16 2018 08:38AM  7234\n",
       "2785  14___O_F00    14  5528  Fri Nov 16 2018 08:40AM  7248\n",
       "3641  14___O_F00    14  5528  Fri Nov 16 2018 08:52AM  7206\n",
       "4165  14___O_F00    14  5528  Fri Nov 16 2018 08:59AM  7272"
      ]
     },
     "execution_count": 29,
     "metadata": {},
     "output_type": "execute_result"
    }
   ],
   "source": [
    "# TODO: parse direction as inbound/outbound? (remove route indicator)\n",
    "# filter by direction/stop if provided\n",
    "# split date/time\n",
    "new_stops"
   ]
  },
  {
   "cell_type": "code",
   "execution_count": 30,
   "metadata": {},
   "outputs": [
    {
     "data": {
      "text/plain": [
       "array(['14___O_F00'], dtype=object)"
      ]
     },
     "execution_count": 30,
     "metadata": {},
     "output_type": "execute_result"
    }
   ],
   "source": [
    "new_stops['DID'].unique()"
   ]
  },
  {
   "cell_type": "code",
   "execution_count": 31,
   "metadata": {},
   "outputs": [
    {
     "data": {
      "text/plain": [
       "array(['5528'], dtype=object)"
      ]
     },
     "execution_count": 31,
     "metadata": {},
     "output_type": "execute_result"
    }
   ],
   "source": [
    "new_stops['SID'].unique()"
   ]
  },
  {
   "cell_type": "code",
   "execution_count": 32,
   "metadata": {},
   "outputs": [],
   "source": [
    "def average_waiting_time(df, start_time, end_time):\n",
    "    minute_range = [start_time.replace(minute = start_time.minute + i) for i in range(end_time.minute - start_time.minute)]\n",
    "    wait_times = pd.DataFrame(columns = [\"ROUTE\", \"TIME\", \"WAIT\"])\n",
    "    \n",
    "    for minute in minute_range:\n",
    "        print(\"hi\")"
   ]
  },
  {
   "cell_type": "code",
   "execution_count": 33,
   "metadata": {},
   "outputs": [],
   "source": [
    "new_stops[\"timestamp\"] = new_stops[\"TIME\"].apply(lambda x: datetime.strptime(x, '%a %b %d %Y %I:%M%p').timestamp())"
   ]
  },
  {
   "cell_type": "code",
   "execution_count": 34,
   "metadata": {},
   "outputs": [],
   "source": [
    "new_stops['date'] = new_stops[\"TIME\"].apply(lambda x: datetime.strptime(x, '%a %b %d %Y %I:%M%p').date())"
   ]
  },
  {
   "cell_type": "code",
   "execution_count": 35,
   "metadata": {},
   "outputs": [],
   "source": [
    "pivot = new_stops[['date', 'timestamp']].pivot_table(values = ['timestamp'], index = ['date'])"
   ]
  },
  {
   "cell_type": "code",
   "execution_count": 36,
   "metadata": {},
   "outputs": [
    {
     "ename": "SyntaxError",
     "evalue": "invalid syntax (<ipython-input-36-f1e297e488d5>, line 1)",
     "output_type": "error",
     "traceback": [
      "\u001b[0;36m  File \u001b[0;32m\"<ipython-input-36-f1e297e488d5>\"\u001b[0;36m, line \u001b[0;32m1\u001b[0m\n\u001b[0;31m    pivot['timestamp'] = pivot['timestamp'].apply(lambda x: )\u001b[0m\n\u001b[0m                                                            ^\u001b[0m\n\u001b[0;31mSyntaxError\u001b[0m\u001b[0;31m:\u001b[0m invalid syntax\n"
     ]
    }
   ],
   "source": [
    "pivot['timestamp'] = pivot['timestamp'].apply(lambda x: )"
   ]
  }
 ],
 "metadata": {
  "kernelspec": {
   "display_name": "Python 3",
   "language": "python",
   "name": "python3"
  }
 },
 "nbformat": 4,
 "nbformat_minor": 2
}
